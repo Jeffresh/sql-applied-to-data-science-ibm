{
 "cells": [
  {
   "cell_type": "markdown",
   "metadata": {},
   "source": [
    "# Module 6 Working With Real World Datasets\n",
    "\n",
    "\n",
    "## Working with CSV files\n",
    "\n",
    "- Many real datasets are .CSV files\n",
    "- .CSV: Comma Separated Values\n",
    "\n",
    "We will use: DOGS.csv\n",
    "\n",
    "columns:\n",
    "- Id\n",
    "- Name of Dog\n",
    "- Breed (dominant breed if tno pure breed)\n",
    "\n",
    "## Column names in the first row\n",
    "\n",
    "When header row in CSV files contains column names. The default colum names may not always be database or query friendly. In that case you have to edit them before create a database table."
   ]
  }
 ],
 "metadata": {
  "interpreter": {
   "hash": "8a8644a8d7400edcf26da9513694f2e605e2e17c7dd82e9ea565ea15662d7286"
  },
  "kernelspec": {
   "display_name": "Python 3.8.10 64-bit ('.env': venv)",
   "name": "python3"
  },
  "language_info": {
   "name": "python",
   "version": "3.8.10"
  },
  "orig_nbformat": 4
 },
 "nbformat": 4,
 "nbformat_minor": 2
}
