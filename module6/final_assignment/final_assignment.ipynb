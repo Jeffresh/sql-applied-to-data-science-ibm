{
 "cells": [
  {
   "cell_type": "markdown",
   "metadata": {},
   "source": [
    "# Module 6: Final assignment\n",
    "\n",
    "## Scenario \n",
    "\n",
    "A non-profit Organization hired you as Data Scientist to help analyze socioeconomic conditions and identify the points of view to improve the education quality and reduce the crime in Chicago city. \n",
    "\n",
    "Your first task is review some Chicago datasets do some EDA.\n",
    "\n",
    "## Tasks\n",
    "\n",
    "1. Download the datasets and familiarize with it.\n",
    "2. Load the data into D2B\n",
    "3. Use jupyter notebooks with python to make and execute the queries to obtains certain results\n",
    "\n",
    "\n",
    "## Datasets\n",
    "\n",
    "1. [Census Data](https://ibm.box.com/shared/static/05c3415cbfbtfnr2fx4atenb2sd361ze.csv)\n",
    "    1. [Description](https://data.cityofchicago.org/Health-Human-Services/Census-Data-Selected-socioeconomic-indicators-in-C/kn9c-c2s2)\n",
    "2. [Chicago Public Schools](https://ibm.box.com/shared/static/f9gjvj1gjmxxzycdhplzt01qtz0s7ew7.csv)\n",
    "    1. [Description](https://data.cityofchicago.org/Education/Chicago-Public-Schools-Progress-Report-Cards-2011-/9xs2-f89t)\n",
    "3. [Chicago Crime Data](https://ibm.box.com/shared/static/svflyugsr9zbqy5bmowgswqemfpm1x7f.csv)\n",
    "    1. [Description](https://data.cityofchicago.org/Public-Safety/Crimes-2001-to-present/ijzp-q8t2)\n"
   ]
  }
 ],
 "metadata": {
  "interpreter": {
   "hash": "8a8644a8d7400edcf26da9513694f2e605e2e17c7dd82e9ea565ea15662d7286"
  },
  "kernelspec": {
   "display_name": "Python 3.8.10 64-bit ('.env': venv)",
   "name": "python3"
  },
  "language_info": {
   "name": "python",
   "version": "3.8.10"
  },
  "orig_nbformat": 4
 },
 "nbformat": 4,
 "nbformat_minor": 2
}
