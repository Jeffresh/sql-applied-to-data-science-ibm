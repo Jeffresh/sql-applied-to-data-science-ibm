{
 "cells": [
  {
   "cell_type": "markdown",
   "metadata": {},
   "source": [
    "# Module 6: Lecture load data\n",
    "\n",
    "\n",
    "## Problems\n",
    "\n",
    "When you load data from a CSV file, you have to ensure the dataset get assigned correctly the different data types and formats. An area that could be particularly problematic is the one with the DATES, HOURS and TIMESTAMPS, because his formats can vary significantly.\n",
    "\n",
    "In the case that the database instance doesn't recognize automatically the data format correctly, or the default configuration doesn't match, you have to fix it manually before load into the database, otherwise it's possible to get errors like ` SQLSTATE=22007`\n",
    "\n",
    "## Fix\n",
    "\n",
    "To avoid this errors, on the DB2 console, you can get a preview of the datatypes and the format that are assigned automatically.\n",
    "If there are any problem, usually Db2 identifies it and shows you with a warning message.\n",
    "\n",
    "To fix this, you can check pressing the clock icon to see the different formats available, if there aren't visible yet.\n",
    "\n",
    "First, check if already exist a default format that match with your date/hour/timestamp format. If not, select the correct format from the available ones.\n",
    "\n",
    "\n",
    "\n",
    "\n"
   ]
  }
 ],
 "metadata": {
  "language_info": {
   "name": "python"
  },
  "orig_nbformat": 4
 },
 "nbformat": 4,
 "nbformat_minor": 2
}
