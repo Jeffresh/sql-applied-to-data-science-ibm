{
 "cells": [
  {
   "cell_type": "markdown",
   "metadata": {},
   "source": [
    "# Module 6: Getting table and column details\n",
    "\n",
    "Sometimes your database could contain more than one table and maybe you don't remember their correct names.\n",
    "\n",
    "For example, you may wonder whether the table is called, dog, dogs, or Dogs.\n",
    "\n",
    "\n",
    "## Getting a list of tables in the database\n",
    "\n",
    "The database systems typically contains system or catalogs tables, from where you can query the list of tables and get their properties.\n",
    "\n",
    "- In DB2: this catalog is called `syscat` table\n",
    "- In SQL server: INFORMATION_SCHEMA.TABLES\n",
    "- In Oracle: ALL_TABLES or USER_TABLES\n",
    "\n",
    "\n",
    "Query system catalog to get a list of tables & their properties:\n",
    "\n",
    "```sql\n",
    "select * from syscat.tables\n",
    "```\n",
    "\n",
    "This instruction will show to many tables so it's better filter the result:\n",
    "\n",
    "```sql\n",
    "\n",
    "select TABSCHEMA, TABNAME, CREATE_TIME\n",
    "    from syscat.tables\n",
    "    where tabschema = 'ABC12345'\n",
    "```\n",
    "\n",
    "Ensure that you replace `ABC12345` with your own DB2 username.\n"
   ]
  }
 ],
 "metadata": {
  "language_info": {
   "name": "python"
  },
  "orig_nbformat": 4
 },
 "nbformat": 4,
 "nbformat_minor": 2
}
