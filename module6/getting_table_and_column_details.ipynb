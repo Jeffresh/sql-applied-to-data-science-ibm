{
 "cells": [
  {
   "cell_type": "markdown",
   "metadata": {},
   "source": [
    "# Module 6: Getting table and column details\n",
    "\n",
    "Sometimes your database could contain more than one table and maybe you don't remember their correct names.\n",
    "\n",
    "For example, you may wonder whether the table is called, dog, dogs, or Dogs.\n",
    "\n",
    "\n",
    "## Getting a list of tables in the database\n",
    "\n",
    "The database systems typically contains system or catalogs tables, from where you can query the list of tables and get their properties.\n",
    "\n",
    "- In DB2: this catalog is called `syscat` table\n",
    "- In SQL server: INFORMATION_SCHEMA.TABLES\n",
    "- In Oracle: ALL_TABLES or USER_TABLES\n",
    "\n",
    "\n",
    "Query system catalog to get a list of tables & their properties:\n",
    "\n",
    "```sql\n",
    "select * from syscat.tables\n",
    "```\n",
    "\n",
    "This instruction will show to many tables so it's better filter the result:\n",
    "\n",
    "```sql\n",
    "\n",
    "select TABSCHEMA, TABNAME, CREATE_TIME\n",
    "    from syscat.tables\n",
    "    where tabschema = 'ABC12345'\n",
    "```\n",
    "\n",
    "Ensure that you replace `ABC12345` with your own DB2 username.\n",
    "\n",
    "## Getting Table Properties\n",
    "\n",
    "```sql\n",
    " select * from syscat.tables \n",
    " ```\n",
    "\n",
    "Imagine that you create several tables with similar names and you want to check which of this tables was the last one you created.\n",
    "\n",
    "```sql\n",
    "select TABSCHEMA, TABNAME, CREATE_TIME\n",
    "    from syscat.tables\n",
    "    where tabschema='LCT12330'\n",
    "```\n",
    "\n",
    "The output will contain the schema name, table name, and creation time for all tables in your schema.\n",
    "\n",
    "## Getting a list of columns in the database\n",
    "\n",
    "To obtain the column names query syscat.columns if you remember the table name.\n",
    "\n",
    "```sql\n",
    "select * from syscat.columns\n",
    "    where tabname = 'DOGS'\n",
    "```\n",
    "\n",
    "In SQL you can simply run the command:\n",
    "\n",
    "```sql\n",
    "SHOW COLUMNS from DOGS\n",
    "```\n",
    "\n",
    "Or if you want to known specific column properties:\n",
    "\n",
    "```sql\n",
    "select distinct (name), coltype, length\n",
    "    from sysibm.syscolumns\n",
    "    where tbname = 'DOGS' \n",
    "```\n",
    "\n",
    "### Column info for a real table\n"
   ]
  },
  {
   "cell_type": "code",
   "execution_count": null,
   "metadata": {},
   "outputs": [],
   "source": [
    "%sql select distinct(name), coltype. length \\\n",
    "    from sysibm.syscolumns where tbname = ' CHICAGO_CRIME_DATA'"
   ]
  }
 ],
 "metadata": {
  "interpreter": {
   "hash": "8a8644a8d7400edcf26da9513694f2e605e2e17c7dd82e9ea565ea15662d7286"
  },
  "kernelspec": {
   "display_name": "Python 3.8.10 64-bit ('.env': venv)",
   "name": "python3"
  },
  "language_info": {
   "name": "python",
   "version": "3.8.10"
  },
  "orig_nbformat": 4
 },
 "nbformat": 4,
 "nbformat_minor": 2
}
