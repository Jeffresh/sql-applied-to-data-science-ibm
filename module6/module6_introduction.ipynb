{
 "cells": [
  {
   "cell_type": "markdown",
   "metadata": {},
   "source": [
    "# Module 6: Introduction - Practice and Final assignment \n",
    "\n",
    "As a Data Scientist, you will work with multiple and different datasets in the real world. In this module You will review how to work with real data and then you will do the assignment using a real world dataset.\n",
    "\n",
    "As part of the assignment, questions will be asked to helps you to understand the data how  real data scientists do.\n",
    "\n",
    "You will be evaluated for both the correctness of your SQL queries and the results.\n",
    "\n",
    "## Objectives\n",
    "\n",
    "- Demonstrate effective use of formulating SQL queries\n",
    "- Demonstrate use of invoking SQL queries from Jupyter notebooks using Python\n",
    "- Demonstrate skill in retrieving SQL query results and analyzing data"
   ]
  }
 ],
 "metadata": {
  "interpreter": {
   "hash": "8a8644a8d7400edcf26da9513694f2e605e2e17c7dd82e9ea565ea15662d7286"
  },
  "kernelspec": {
   "display_name": "Python 3.8.10 64-bit ('.env': venv)",
   "name": "python3"
  },
  "language_info": {
   "name": "python",
   "version": "3.8.10"
  },
  "orig_nbformat": 4
 },
 "nbformat": 4,
 "nbformat_minor": 2
}
