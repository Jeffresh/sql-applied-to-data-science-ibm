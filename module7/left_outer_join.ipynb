{
 "cells": [
  {
   "cell_type": "markdown",
   "metadata": {},
   "source": [
    "# Module 7: Left Outer Join\n",
    "\n",
    "## Abstract\n",
    "\n",
    "- Explain the syntax of the Left Outer Join Operator\n",
    "- Interpret the result set\n",
    "\n",
    "## Left Outer Join operator\n",
    "\n",
    "- Join: combines the rows from two or more tables \n",
    "\n",
    "- Two types of table joins:\n",
    "    - Inner \n",
    "    - Outer\n",
    "\n",
    "- Three types of Outer Join:\n",
    "    - Left Outer join <- all rows from the left table & any matching rows from the right table\n",
    "    - Right Outer join\n",
    "    - Full Outer join  \n",
    "\n",
    "Example: Check the names of people who have borrowed a book\n",
    "\n",
    "```sql\n",
    "SELECT b.borrower_id, b.lastname, b.country, l.borrower_id, l.loan_date\n",
    "from borrower b LEFT JOIN loan l\n",
    "ON b.borrower_id = l.borrower_id\n",
    "```\n",
    "\n",
    "In this example, the Borrower table is the Left table.\n",
    "\n",
    "## Null values \n",
    "\n",
    "There are borrowers that have never taken a book out on loan, so this rows are filled with `Null` on the loan columns data.\n",
    "\n",
    "## Summary\n",
    "\n",
    "- Explain the syntax of the Left Outer Join Operator\n",
    "- Interpret the result set, including a NUll value"
   ]
  }
 ],
 "metadata": {
  "language_info": {
   "name": "python"
  },
  "orig_nbformat": 4
 },
 "nbformat": 4,
 "nbformat_minor": 2
}
