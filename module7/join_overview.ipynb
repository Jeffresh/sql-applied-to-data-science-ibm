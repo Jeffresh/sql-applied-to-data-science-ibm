{
 "cells": [
  {
   "cell_type": "markdown",
   "metadata": {},
   "source": [
    "# Module 7: Join Overview\n",
    "\n",
    "\n",
    "## Introduction \n",
    "\n",
    "- Join two tables to create a result set \n",
    "- Define the join operator\n",
    "- Explain the role of primary keys and foreign keys ina join operation \n",
    "- List different types of join operators\n",
    "\n",
    "\n",
    "## Relation Model - a Database Diagram\n",
    "\n",
    "- JOIN operator:\n",
    "\n",
    "    - Combines roes from two or more tables \n",
    "    - Based on a relationship\n",
    "\n",
    "- Primary key: uniquely identifies each row in a table \n",
    "\n",
    "## Joining tables\n",
    "\n",
    "- Which borrower has a book out on loan?\n",
    "If you wanted to know which borrower has a book out on load, you need to gather data from the borrower and loan tables.\n",
    "\n",
    "## Types of joins\n",
    "\n",
    "SQL offers you several different types of JOINs.\n",
    "\n",
    "- Inner join: Intersection of the two tables involved\n",
    "- Outer join: Bigger dataset\n",
    "     - Left Outer Join\n",
    "     - Right Outer Join\n",
    "     - Full Outer Join"
   ]
  }
 ],
 "metadata": {
  "language_info": {
   "name": "python"
  },
  "orig_nbformat": 4
 },
 "nbformat": 4,
 "nbformat_minor": 2
}
