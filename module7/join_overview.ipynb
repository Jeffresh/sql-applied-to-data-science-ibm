{
 "cells": [
  {
   "cell_type": "markdown",
   "metadata": {},
   "source": [
    "# Module 7: Join Overview\n",
    "\n",
    "\n",
    "## Introduction \n",
    "\n",
    "- Join two tables to create a result set \n",
    "- Define the join operator\n",
    "- Explain the role of primary keys and foreign keys ina join operation \n",
    "- List different types of join operators\n",
    "\n",
    "\n"
   ]
  }
 ],
 "metadata": {
  "language_info": {
   "name": "python"
  },
  "orig_nbformat": 4
 },
 "nbformat": 4,
 "nbformat_minor": 2
}
