{
 "cells": [
  {
   "cell_type": "markdown",
   "metadata": {},
   "source": [
    "# Module 7: lab Join Operators\n",
    "\n",
    "\n",
    "## Introduction \n",
    "\n",
    "### DISCLAIMER\n",
    "\n",
    "In this lab we assumed that you created and filled the database using RH database and D2b at IBM cloud.\n",
    "\n",
    "### HR database\n",
    "\n",
    "The scheme of RH database contains 5 tables, EMPLOYEES, JOB_HISTORY, JOBS, DEPARTMENTS and LOCATIONS.\n",
    "\n",
    "\n",
    "## Exercises\n",
    "\n",
    "### Query 1A: Select the names (\"name\") and the job start dates (\"job start date\") of every employees that works in the department number 5.\n",
    "\n",
    "```\n",
    "\n",
    "```\n",
    "\n",
    "\n"
   ]
  }
 ],
 "metadata": {
  "language_info": {
   "name": "python"
  },
  "orig_nbformat": 4
 },
 "nbformat": 4,
 "nbformat_minor": 2
}
