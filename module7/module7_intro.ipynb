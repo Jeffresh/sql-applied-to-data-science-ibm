{
 "cells": [
  {
   "cell_type": "markdown",
   "metadata": {},
   "source": [
    "# Module 7: Join operator\n",
    "\n",
    "Uses of the join operator to work with mulitples tables\n",
    "\n",
    "## Objectives \n",
    "\n",
    "- Enumerate the different join operators \n",
    "- Distinguish between the different types of Outer joins and apply what you learned\n",
    "- Explain what is Inner join and practice with them."
   ]
  }
 ],
 "metadata": {
  "language_info": {
   "name": "python"
  },
  "orig_nbformat": 4
 },
 "nbformat": 4,
 "nbformat_minor": 2
}
