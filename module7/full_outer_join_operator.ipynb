{
 "cells": [
  {
   "cell_type": "markdown",
   "metadata": {},
   "source": [
    "# Module 7: Full Outer join Operator\n",
    "\n",
    "We ill learn about creating a result set by joining all rows from two tables \n",
    "\n",
    "- Explain the syntax of the full outer join Operator\n",
    "- Interpret the result set\n",
    "\n"
   ]
  }
 ],
 "metadata": {
  "language_info": {
   "name": "python"
  },
  "orig_nbformat": 4
 },
 "nbformat": 4,
 "nbformat_minor": 2
}
