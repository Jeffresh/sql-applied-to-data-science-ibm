{
 "cells": [
  {
   "cell_type": "markdown",
   "metadata": {},
   "source": [
    "# Module 7: Full Outer join Operator\n",
    "\n",
    "We ill learn about creating a result set by joining all rows from two tables \n",
    "\n",
    "- Explain the syntax of the full outer join Operator\n",
    "- Interpret the result set\n",
    "\n",
    "## Full Outer Join Operator\n",
    "\n",
    "- Join: combines the rows from two or more tables \n",
    "- Two types of table join:\n",
    "    - Inner\n",
    "    - Outer\n",
    "\n",
    "- Three types of OUter join: \n",
    "    - Left Outer join\n",
    "    - Right Outer join \n",
    "    - Full Outer join <- all rows from both tables\n",
    "\n",
    "\n",
    "This section explains full outer join or simply called full join.\n",
    "\n",
    "The full join keyword returns all rows from both tables. That is all rows from the left table and all rows from the right table.\n",
    "\n",
    "Example: Check the names of people who have borrowed a book\n",
    "\n",
    "### Sintax\n",
    "\n",
    "```sql\n",
    "SELECT b.borrower_ID, b.lastname, b.country, l.borrower_id, l.loan_date\n",
    "\n",
    "from borrower b full join loan l\n",
    "\n",
    "on b.borrower_id = l.borrower_id\n",
    "```\n",
    "\n",
    "If there are some records that have not corresponding borrower ID (in this case) a null value is returned because there are some borrowers that never taken a book out n loan, therefore there is no corresponding borrower ID value in the loan table."
   ]
  }
 ],
 "metadata": {
  "language_info": {
   "name": "python"
  },
  "orig_nbformat": 4
 },
 "nbformat": 4,
 "nbformat_minor": 2
}
