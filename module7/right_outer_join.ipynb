{
 "cells": [
  {
   "cell_type": "markdown",
   "metadata": {},
   "source": [
    "# Module 7: Right Outer Join\n",
    "\n",
    "- Explain the syntax of the RIGHT Outer join Operator\n",
    "- Interpret the result set\n",
    "\n",
    "## Right outer join operator\n",
    "\n",
    "- Join: combines the rows from two or more tables\n",
    "\n",
    "- Two types of table joins:\n",
    "    - Inner \n",
    "    - Outer\n",
    "\n",
    "- Three types of Outer Join:\n",
    "    - Left Outer Join\n",
    "    - Right Outer join <- all rows from the right table & any matching rows rom the left table\n",
    "    - Full Outer join\n",
    "\n",
    "Example: check the names of people who have borrowed a book\n",
    "\n",
    "```sql\n",
    "\n",
    "SELECT b.borrower_id, b.lastname, b.country, l.borrower_id, l.loan_date\n",
    "FROM borrower b RIGHT JOIN loan l\n",
    "on b.borrower_id = l.borrower_id\n",
    "\n",
    "```\n",
    "\n",
    "In this example, the Loan table is the right table.\n",
    "Each column name is prefixed with an alies to indicate which table each column is associated with\n",
    "\n",
    "## Summary \n",
    "\n",
    "- Explain the syntax of the RIGHT Outer Join Operator\n",
    "- Interpret the result set.\n",
    "\n"
   ]
  }
 ],
 "metadata": {
  "language_info": {
   "name": "python"
  },
  "orig_nbformat": 4
 },
 "nbformat": 4,
 "nbformat_minor": 2
}
