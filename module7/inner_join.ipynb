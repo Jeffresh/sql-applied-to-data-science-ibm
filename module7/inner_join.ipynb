{
 "cells": [
  {
   "cell_type": "markdown",
   "metadata": {},
   "source": [
    "# Module 7: Inner join\n",
    "\n",
    "## Abstract \n",
    "\n",
    "- Explain the SQL syntax to join two or more tables\n",
    "- Interpret the result set"
   ]
  }
 ],
 "metadata": {
  "language_info": {
   "name": "python"
  },
  "orig_nbformat": 4
 },
 "nbformat": 4,
 "nbformat_minor": 2
}
