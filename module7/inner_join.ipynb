{
 "cells": [
  {
   "cell_type": "markdown",
   "metadata": {},
   "source": [
    "# Module 7: Inner join\n",
    "\n",
    "## Abstract \n",
    "\n",
    "- Explain the SQL syntax to join two or more tables\n",
    "- Interpret the result set\n",
    "\n",
    "## Join operators\n",
    "\n",
    "Join: combine the rows from two or more tables based in the relationship between certain columns in this tables\n",
    "\n",
    "There are two types of joins:\n",
    "\n",
    "- Inner <- most popular: displays matches only\n",
    "- Outer\n",
    "\n",
    "## Inner Join Operator\n",
    "\n",
    "Example: check the names of people who have borrowed a book\n",
    "\n",
    "Sintax:\n",
    "\n",
    "```sql\n",
    "SELECT b.borrwer_ID, b.lastname, b.country, l.borrwer_id, l.loan_date\n",
    "FROM borrower b inner join loan l\n",
    "on b.borrower_id = l.borrower_id\n",
    "```\n",
    "\n",
    "The result set shows the rows from both tables that have the same borrower_id\n"
   ]
  }
 ],
 "metadata": {
  "language_info": {
   "name": "python"
  },
  "orig_nbformat": 4
 },
 "nbformat": 4,
 "nbformat_minor": 2
}
