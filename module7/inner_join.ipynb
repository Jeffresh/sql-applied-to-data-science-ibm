{
 "cells": [
  {
   "cell_type": "markdown",
   "metadata": {},
   "source": [
    "# Module 7: Inner join\n",
    "\n",
    "## Abstract \n",
    "\n",
    "- Explain the SQL syntax to join two or more tables\n",
    "- Interpret the result set\n",
    "\n",
    "## Join operators\n",
    "\n",
    "Join: combine the rows from two or more tables based in the relationship between certain columns in this tables\n",
    "\n",
    "There are two types of joins:\n",
    "\n",
    "- Inner <- most popular: displays matches only\n",
    "- Outer\n"
   ]
  }
 ],
 "metadata": {
  "language_info": {
   "name": "python"
  },
  "orig_nbformat": 4
 },
 "nbformat": 4,
 "nbformat_minor": 2
}
