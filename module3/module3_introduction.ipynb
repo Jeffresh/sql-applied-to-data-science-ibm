{
 "cells": [
  {
   "cell_type": "markdown",
   "metadata": {},
   "source": [
    "# Module 3: Introduction\n",
    "\n",
    "At the end of this module you will have learned to use string patterns and ranges for data searching, sorting and grouping.\n",
    "\n",
    "## Objectives\n",
    "\n",
    "- Explain how to use string patterns and ranges in SQL querys.\n",
    "- Show how to sort and grouping data sets.\n",
    "- Practicing the use of grouping data into result sets"
   ]
  }
 ],
 "metadata": {
  "language_info": {
   "name": "python"
  },
  "orig_nbformat": 4
 },
 "nbformat": 4,
 "nbformat_minor": 2
}
