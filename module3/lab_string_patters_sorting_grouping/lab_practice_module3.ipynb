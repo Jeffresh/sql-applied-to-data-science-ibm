{
 "cells": [
  {
   "cell_type": "markdown",
   "metadata": {},
   "source": [
    "# Module 3 lab practice"
   ]
  },
  {
   "cell_type": "markdown",
   "metadata": {},
   "source": [
    "## Part I: Creating tables\n",
    "\n",
    "Just create the tables using a file on ibm cloud.\n",
    "\n",
    "## Part II: Loading data\n",
    "\n",
    "### Question 1: Were there any warnings loading data into the JOBS table? What can be done to resolve this? \n",
    "#### Hint: View the data loaded into this table and pay close attention to the JOB_TITLE column. \n",
    "\n",
    "Yes, three warnings about truncated information in column number 2. Modify the data structure to allow more chars.\n",
    "\n",
    "### Question 2: Did all rows from the source file load successfully in the DEPARTMENT table? If not, are you able to figure out why not?\n",
    "\n",
    "No because two rows has the same primary key.\n",
    "\n",
    "## Part III: Composing and running queries\n",
    "\n",
    "### Query 1: Retrieve all employees whose address is in Elgin,IL\n",
    "\n",
    "```\n",
    "select * \n",
    "from employees\n",
    "where address like '%Elgin,IL'\n",
    ";\n",
    "```\n"
   ]
  }
 ],
 "metadata": {
  "language_info": {
   "name": "python"
  },
  "orig_nbformat": 4
 },
 "nbformat": 4,
 "nbformat_minor": 2
}
