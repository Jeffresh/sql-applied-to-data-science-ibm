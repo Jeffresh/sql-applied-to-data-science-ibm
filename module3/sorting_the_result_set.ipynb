{
 "cells": [
  {
   "cell_type": "markdown",
   "metadata": {},
   "source": [
    "# Module 3 : Sorting the result sets\n",
    "\n",
    "- Describe how to sort the result set by either ascending or descending order\n",
    "- Explain how to indicate which column to use for the sorting order\n",
    "\n",
    "\n",
    "## Sorting the Result Set using ORDER BY clause\n",
    "\n",
    "Select title from book in ascending order\n",
    "\n",
    "```\n",
    "select title from book order by title\n",
    "\n",
    "```\n",
    "\n",
    "## Sorting the Result Set - Descending order\n",
    "\n",
    "```\n",
    "select title form book order by title desc\n",
    "```\n",
    "\n",
    "## Specifying Column Sequence Number\n",
    "\n",
    "Ordering by column 2 in select clause (pages)\n",
    "\n",
    "```\n",
    "select title, pages from book order by 2\n",
    "```\n",
    "\n",
    "## Summary\n",
    "\n",
    "- Describe how to sort the result set by either ascending or descending order\n",
    "- Explain how to indicate which column to use for the sorting order"
   ]
  }
 ],
 "metadata": {
  "language_info": {
   "name": "python"
  },
  "orig_nbformat": 4
 },
 "nbformat": 4,
 "nbformat_minor": 2
}
