{
 "cells": [
  {
   "cell_type": "markdown",
   "metadata": {},
   "source": [
    "# Module 3: Grouping Result Sets\n",
    "\n",
    "- Eiminate duplicates from a result set \n",
    "- Describe how to further restrict a result set\n"
   ]
  },
  {
   "cell_type": "markdown",
   "metadata": {},
   "source": [
    "## Eliminating Duplicates - DISTINCT clause\n",
    "\n",
    "This query shows duplicates - 20 rows\n",
    "\n",
    "```\n",
    "select country from Author order by 1\n",
    "\n",
    "```\n",
    "\n",
    "In other hand, this query shows 6 rows\n",
    "\n",
    "```\n",
    "select distinct(country) from author\n",
    "```\n",
    "\n",
    "## GROUP BY clause\n",
    "\n",
    "How many authors per country?\n",
    "\n",
    "```\n",
    "select country, count(country) from Author GROUP BY country\n",
    "```\n",
    "\n",
    "If you want a specific name of that column, use the `as` keyword:\n",
    "\n",
    "```\n",
    "select country, count(country) as Count from Author GROUP BY country\n",
    "```\n",
    "\n",
    "## Restricting the Result Set - HAVING clause\n",
    "\n",
    "When you use group by, when you want to restrict the group by clause we dont use where, we use having. Where is only for the select clause.\n",
    "\n",
    "So this query:\n",
    "\n",
    "```\n",
    "select country, count(country) as Count from Author group by country\n",
    "\n",
    "```\n",
    "\n",
    "But only shows the country with more of 4 authors:\n",
    "\n",
    "```\n",
    "select country, count(country) as Count from Author group by country having count(country) > 4\n",
    "\n",
    "```\n",
    "\n",
    "## Summary\n",
    "\n",
    "- Eliminate duplicates form a result set.\n",
    "- Describe how to further restrict a result set."
   ]
  }
 ],
 "metadata": {
  "language_info": {
   "name": "python"
  },
  "orig_nbformat": 4
 },
 "nbformat": 4,
 "nbformat_minor": 2
}
