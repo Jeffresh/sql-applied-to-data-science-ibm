{
 "cells": [
  {
   "cell_type": "markdown",
   "metadata": {},
   "source": [
    "# Module 3: Using String patterns ranges and sets\n",
    "\n",
    "SELECT statement by using:\n",
    "- String patterns \n",
    "- Ranges, or\n",
    "- Sets of values\n",
    "\n",
    "\n",
    "## Retrieving rows from a table - using a String Pattern\n",
    "\n",
    "\n",
    "- Select the rows where firstname in table author start with R:\n",
    "\n",
    "db2 -> ```select firstname from author \n",
    "        where firstname like 'R%'\n",
    "       ```\n",
    "- Select the title and pages from table book that have a number of pages between 290 and 300\n",
    "\n",
    "## Retrieving rows - using a range\n",
    "\n",
    "The ranges are inclusive.\n",
    "\n",
    "db2 -> ```\n",
    "         select title, pages from book where pages between 290 and 300\n",
    "       ```\n",
    "\n",
    "## Retrieving rows - using a Set of Values \n",
    "\n",
    "- select firstname, lastname and country from table author where the name country is 'AU' or 'BR'\n",
    "\n",
    "db2 = ```select firstname, lastname, country form author where country  IN ('AU', 'BR')```\n",
    "\n",
    "\n",
    "## Summary\n",
    "\n",
    "Now you can describe how to simplify a SELECT statement using:\n",
    "- String patterns\n",
    "- Ranges, or\n",
    "- Set of values"
   ]
  }
 ],
 "metadata": {
  "language_info": {
   "name": "python"
  },
  "orig_nbformat": 4
 },
 "nbformat": 4,
 "nbformat_minor": 2
}
