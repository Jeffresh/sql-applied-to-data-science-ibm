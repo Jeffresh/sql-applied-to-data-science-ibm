{
 "cells": [
  {
   "cell_type": "markdown",
   "metadata": {},
   "source": [
    "# Module 5: Creating Tables, Loading Data and Querying Data using Python\n",
    "\n",
    "We will use DB2 as the database "
   ]
  },
  {
   "cell_type": "markdown",
   "metadata": {},
   "source": [
    "## Connecting to IBM db2"
   ]
  },
  {
   "cell_type": "code",
   "execution_count": 1,
   "metadata": {},
   "outputs": [
    {
     "data": {
      "text/plain": [
       "True"
      ]
     },
     "execution_count": 1,
     "metadata": {},
     "output_type": "execute_result"
    }
   ],
   "source": [
    "import ibm_db\n",
    "from dotenv import load_dotenv\n",
    "import os\n",
    "load_dotenv(\".env\")"
   ]
  },
  {
   "cell_type": "code",
   "execution_count": 2,
   "metadata": {},
   "outputs": [],
   "source": [
    "dsn_hostname = os.getenv('HOSTNAME')\n",
    "dsn_uid = os.getenv('UID')        # p. ej. \"abc12345\"\n",
    "dsn_pwd = os.getenv('PWD')      # p. ej. \"7dBZ3wWt9XN6$o0J\"\n",
    "\n",
    "dsn_driver = os.getenv('DRIVER')\n",
    "dsn_database = os.getenv('DATABASE')            # p. ej. \"BLUDB\"\n",
    "dsn_port = os.getenv('PORT')                # p. ej. \"50000\"\n",
    "dsn_protocol = os.getenv('PROTOCOL')            # p. ej. \"TCPIP\"\n",
    "dsn_security = os.getenv('SECURITY')"
   ]
  },
  {
   "cell_type": "code",
   "execution_count": 5,
   "metadata": {},
   "outputs": [
    {
     "name": "stdout",
     "output_type": "stream",
     "text": [
      "Connected!\n"
     ]
    }
   ],
   "source": [
    "dsn = (\n",
    "    \"DRIVER={0};\"\n",
    "    \"DATABASE={1};\"\n",
    "    \"HOSTNAME={2};\"\n",
    "    \"PORT={3};\"\n",
    "    \"PROTOCOL={4};\"\n",
    "    \"UID={5};\"\n",
    "    \"PWD={6};\"\n",
    "    \"SECURITY={7};\").format(dsn_driver, dsn_database, dsn_hostname, dsn_port, dsn_protocol, dsn_uid, dsn_pwd, dsn_security)\n",
    "\n",
    "try:\n",
    "    conn = ibm_db.connect(dsn, \"\", \"\")\n",
    "    print(\"Connected!\")\n",
    "\n",
    "except:\n",
    "    print(\"Unable to connect: \", ibm_db.conn_errormsg())\n"
   ]
  },
  {
   "cell_type": "markdown",
   "metadata": {},
   "source": [
    "## Creating Tables \n",
    "\n",
    "We use the ``` ibm_db.exec_immediate() ``` function. The parameters for the function are:\n",
    "\n",
    "- Connection : the return value of ```ibm_db.conenct``` or ```ibm_db.pconnect```\n",
    "- Statement : String with the SQL query\n",
    "- Options : optional parameter that includes a dict to specify the cursor type to return the result set.\n",
    "\n",
    "### Python code to create a table\n",
    "\n",
    "```python\n",
    "stmt = ibm_db.exec_immediate(conn,\n",
    "\"CREATE TABLE  Trucks(\n",
    "    serial_no VARCHAR(20) PRIMARY KEY NOT NULL,\n",
    "    model VARCHAR(20) NOT NULL,\n",
    "    manufacturer VARCHAR(20) NOT NULL,\n",
    "    Engine_size VARCHAR(20) NOT NULL,\n",
    "    Truck_Class VARCHAR(20) NOT NULL);\"\n",
    ")\n",
    "```"
   ]
  },
  {
   "cell_type": "code",
   "execution_count": 10,
   "metadata": {},
   "outputs": [],
   "source": [
    "stmt = ibm_db.exec_immediate(conn,\n",
    "                             \"CREATE TABLE Trucks(serial_no VARCHAR(20) PRIMARY KEY NOT NULL, \\\n",
    "                             model VARCHAR(20) NOT NULL, \\\n",
    "                                 manufacturer VARCHAR(20) NOT NULL, \\\n",
    "                                 Engine_size VARCHAR(20) NOT NULL, \\\n",
    "                                 Truck_Class VARCHAR(20) NOT NULL);\"\n",
    "                             )"
   ]
  },
  {
   "cell_type": "markdown",
   "metadata": {},
   "source": [
    "## Python code to insert data into the table\n",
    "\n",
    "```python\n",
    "stmt = ibm_db.exec_immediate(conn,\n",
    "\"INSERT INTO Trucks(serial_no, model, manufacturer, Engine_size, Truck_Class)\n",
    "VALUES('A1234', 'Lonestar', 'International Trucks', 'Cummins ISX15', 'Class 8'),\n",
    "('B5432', 'Volvo VN', 'Volvo Trucks', 'Volvo D11', 'Heavy Duty Class 8'),\n",
    "('C5674', 'Kenworth W900', 'Kenworth Truck Co', 'Caterpillar C9', 'Class 8');\"\n",
    ")\n",
    "```"
   ]
  },
  {
   "cell_type": "code",
   "execution_count": 12,
   "metadata": {},
   "outputs": [],
   "source": [
    "stmt = ibm_db.exec_immediate(conn,\n",
    "                             \"INSERT INTO Trucks(serial_no, model, manufacturer, Engine_size, Truck_Class) \\\n",
    "                             VALUES('A1234', 'Lonestar', 'International Trucks', \\\n",
    "                                    'Cummins ISX15', 'Class 8'), \\\n",
    "                             ('B5432', 'Volvo VN', 'Volvo Trucks', \\\n",
    "                              'Volvo D11', 'Heavy Duty Class 8'), \\\n",
    "                             ('C5674', 'Kenworth W900', 'Kenworth Truck Co', \\\n",
    "                              'Caterpillar C9', 'Class 8');\"\n",
    "                            )\n"
   ]
  },
  {
   "cell_type": "markdown",
   "metadata": {},
   "source": [
    "## Python code to query data\n",
    "```python\n",
    "stmt = ibm_db.exec_immediate(conn, \"SELECT * FROM trucks);\")\n",
    "ibm_db.fetch_both(stmt)\n",
    "```"
   ]
  },
  {
   "cell_type": "code",
   "execution_count": 14,
   "metadata": {},
   "outputs": [
    {
     "data": {
      "text/plain": [
       "{'SERIAL_NO': 'A1234',\n",
       " 0: 'A1234',\n",
       " 'MODEL': 'Lonestar',\n",
       " 1: 'Lonestar',\n",
       " 'MANUFACTURER': 'International Trucks',\n",
       " 2: 'International Trucks',\n",
       " 'ENGINE_SIZE': 'Cummins ISX15',\n",
       " 3: 'Cummins ISX15',\n",
       " 'TRUCK_CLASS': 'Class 8',\n",
       " 4: 'Class 8'}"
      ]
     },
     "execution_count": 14,
     "metadata": {},
     "output_type": "execute_result"
    }
   ],
   "source": [
    "stmt = ibm_db.exec_immediate(conn, \"SELECT * FROM trucks;\")\n",
    "ibm_db.fetch_both(stmt)"
   ]
  },
  {
   "cell_type": "markdown",
   "metadata": {},
   "source": [
    "## Fetching data into pandas"
   ]
  },
  {
   "cell_type": "code",
   "execution_count": 16,
   "metadata": {},
   "outputs": [],
   "source": [
    "import pandas as pd \n",
    "import ibm_db_dbi "
   ]
  },
  {
   "cell_type": "code",
   "execution_count": 19,
   "metadata": {},
   "outputs": [
    {
     "data": {
      "text/html": [
       "<div>\n",
       "<style scoped>\n",
       "    .dataframe tbody tr th:only-of-type {\n",
       "        vertical-align: middle;\n",
       "    }\n",
       "\n",
       "    .dataframe tbody tr th {\n",
       "        vertical-align: top;\n",
       "    }\n",
       "\n",
       "    .dataframe thead th {\n",
       "        text-align: right;\n",
       "    }\n",
       "</style>\n",
       "<table border=\"1\" class=\"dataframe\">\n",
       "  <thead>\n",
       "    <tr style=\"text-align: right;\">\n",
       "      <th></th>\n",
       "      <th>SERIAL_NO</th>\n",
       "      <th>MODEL</th>\n",
       "      <th>MANUFACTURER</th>\n",
       "      <th>ENGINE_SIZE</th>\n",
       "      <th>TRUCK_CLASS</th>\n",
       "    </tr>\n",
       "  </thead>\n",
       "  <tbody>\n",
       "    <tr>\n",
       "      <th>0</th>\n",
       "      <td>A1234</td>\n",
       "      <td>Lonestar</td>\n",
       "      <td>International Trucks</td>\n",
       "      <td>Cummins ISX15</td>\n",
       "      <td>Class 8</td>\n",
       "    </tr>\n",
       "    <tr>\n",
       "      <th>1</th>\n",
       "      <td>B5432</td>\n",
       "      <td>Volvo VN</td>\n",
       "      <td>Volvo Trucks</td>\n",
       "      <td>Volvo D11</td>\n",
       "      <td>Heavy Duty Class 8</td>\n",
       "    </tr>\n",
       "    <tr>\n",
       "      <th>2</th>\n",
       "      <td>C5674</td>\n",
       "      <td>Kenworth W900</td>\n",
       "      <td>Kenworth Truck Co</td>\n",
       "      <td>Caterpillar C9</td>\n",
       "      <td>Class 8</td>\n",
       "    </tr>\n",
       "  </tbody>\n",
       "</table>\n",
       "</div>"
      ],
      "text/plain": [
       "  SERIAL_NO          MODEL          MANUFACTURER     ENGINE_SIZE  \\\n",
       "0     A1234       Lonestar  International Trucks   Cummins ISX15   \n",
       "1     B5432       Volvo VN          Volvo Trucks       Volvo D11   \n",
       "2     C5674  Kenworth W900     Kenworth Truck Co  Caterpillar C9   \n",
       "\n",
       "          TRUCK_CLASS  \n",
       "0             Class 8  \n",
       "1  Heavy Duty Class 8  \n",
       "2             Class 8  "
      ]
     },
     "execution_count": 19,
     "metadata": {},
     "output_type": "execute_result"
    }
   ],
   "source": [
    "pconn = ibm_db_dbi.Connection(conn)\n",
    "df = pd.read_sql('SELECT * FROM Trucks', pconn)\n",
    "df"
   ]
  },
  {
   "cell_type": "code",
   "execution_count": null,
   "metadata": {},
   "outputs": [],
   "source": []
  }
 ],
 "metadata": {
  "interpreter": {
   "hash": "8a8644a8d7400edcf26da9513694f2e605e2e17c7dd82e9ea565ea15662d7286"
  },
  "kernelspec": {
   "display_name": "Python 3.8.10 64-bit ('.env': venv)",
   "name": "python3"
  },
  "language_info": {
   "codemirror_mode": {
    "name": "ipython",
    "version": 3
   },
   "file_extension": ".py",
   "mimetype": "text/x-python",
   "name": "python",
   "nbconvert_exporter": "python",
   "pygments_lexer": "ipython3",
   "version": "3.8.10"
  },
  "orig_nbformat": 4
 },
 "nbformat": 4,
 "nbformat_minor": 2
}
