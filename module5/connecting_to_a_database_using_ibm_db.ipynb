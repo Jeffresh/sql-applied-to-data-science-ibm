{
 "cells": [
  {
   "cell_type": "markdown",
   "metadata": {},
   "source": [
    "# Module 5: Connecting to a database using IBM db\n",
    "\n",
    "## Overview \n",
    "\n",
    "- Describe the ibm_db API\n",
    "- List the credentials required to connect to a database\n",
    "- Connect to an IBM db2 database using Python \n"
   ]
  }
 ],
 "metadata": {
  "interpreter": {
   "hash": "8a8644a8d7400edcf26da9513694f2e605e2e17c7dd82e9ea565ea15662d7286"
  },
  "kernelspec": {
   "display_name": "Python 3.8.10 64-bit ('.env': venv)",
   "name": "python3"
  },
  "language_info": {
   "name": "python",
   "version": "3.8.10"
  },
  "orig_nbformat": 4
 },
 "nbformat": 4,
 "nbformat_minor": 2
}
