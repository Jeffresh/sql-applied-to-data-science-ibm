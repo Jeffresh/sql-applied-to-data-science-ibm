{
 "cells": [
  {
   "cell_type": "markdown",
   "metadata": {},
   "source": [
    "# Module 5: Connecting to a database using IBM db\n",
    "\n",
    "## Overview \n",
    "\n",
    "- Describe the ibm_db API\n",
    "- List the credentials required to connect to a database\n",
    "- Connect to an IBM db2 database using Python \n",
    "\n",
    "## What is ibm_db?\n",
    "\n",
    "- The ibm_db API provides a variety of useful Python functions for accessing and manipulating data in an IBM data server Database\n",
    "- ibm_db API uses the IBM Data Server Driver for ODBC and CLI APIs to connect to IBM DB2 and Informix\n",
    "\n",
    "## Identify database connection credentials\n",
    "\n",
    "```python\n",
    "dns_driver = \"{IBM DB@ ODBC DRIVER}\"\n",
    "dsn_database = \"BLUDB\"\n",
    "dns_hostame = \"YourDb2Hostname\" # e.g.: \"dashdb-txn-sbox-yp-dal09-04.services.dal.bluemix.net\"\n",
    "dns_port = \"50000\"\n",
    "dns_protocol = \"TCPIP\"\n",
    "dsn_uid = \"***************\" # e.g. \"abc12345\"\n",
    "dsn_pwd = \"***************\" # e.g. \"7dbZ3wWt9XN6$o0J\"\n",
    "```\n",
    "\n",
    "\n",
    "## Create a database connection \n",
    "\n",
    "```python\n",
    "\n",
    "dsn = (\n",
    "    \"DRIVER={{IBM DB@ ODBC DRIVER}};\"\n",
    "    \"DATABASE={0};\n",
    "    \"HOSTNAME={1};\n",
    "    \"PORT={2};\"\n",
    "    \"PROTOCOL=TCPIP;\"\n",
    "    \"UID={3};\"\n",
    "    \"PWD={4};\"\n",
    ").format(dsn_database, dsn_hostname, dsn_port, dsn_uid, dsn_pwd)\n",
    "\n",
    "try:\n",
    "    conn = ibm_db.connect(dsn, \"\", \"\")\n",
    "\n",
    "except:\n",
    "    print(\"Unable to connect to database\")\n",
    "\n",
    "```\n",
    "\n",
    "### Close the database connection\n",
    "\n",
    "Remember that it is always important to close connections so that we can avoid unused connections\n",
    "\n",
    "```python\n",
    "ibm_db.close(conn)\n",
    "```"
   ]
  }
 ],
 "metadata": {
  "interpreter": {
   "hash": "8a8644a8d7400edcf26da9513694f2e605e2e17c7dd82e9ea565ea15662d7286"
  },
  "kernelspec": {
   "display_name": "Python 3.8.10 64-bit ('.env': venv)",
   "name": "python3"
  },
  "language_info": {
   "name": "python",
   "version": "3.8.10"
  },
  "orig_nbformat": 4
 },
 "nbformat": 4,
 "nbformat_minor": 2
}
