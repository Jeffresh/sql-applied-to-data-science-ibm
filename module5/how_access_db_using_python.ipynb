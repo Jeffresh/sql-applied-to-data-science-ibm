{
 "cells": [
  {
   "cell_type": "markdown",
   "metadata": {},
   "source": [
    "# Module 5: How to Access Databases using python\n",
    "\n",
    "- Explain the basic concepts for connecting Python apps to a database\n",
    "- Describe SQL APIs\n",
    "- List SQL APIs for popular RDBMSes\n",
    "\n",
    "## Benefits of python for database programming\n",
    "\n",
    "- Python ecosystem: NumPy, pandas, matplotlib, SciPy\n",
    "- Ease of use\n",
    "- Portable\n",
    "- Python supports relational database system\n",
    "- Python Database API(DB-API)\n",
    "- Detailed documentation\n",
    "\n",
    "\n",
    "## What is a SQL API?\n",
    "\n",
    "A set of functions that you can use to obtain access to some type of service.\n"
   ]
  }
 ],
 "metadata": {
  "interpreter": {
   "hash": "8a8644a8d7400edcf26da9513694f2e605e2e17c7dd82e9ea565ea15662d7286"
  },
  "kernelspec": {
   "display_name": "Python 3.8.10 64-bit ('.env': venv)",
   "name": "python3"
  },
  "language_info": {
   "name": "python",
   "version": "3.8.10"
  },
  "orig_nbformat": 4
 },
 "nbformat": 4,
 "nbformat_minor": 2
}
