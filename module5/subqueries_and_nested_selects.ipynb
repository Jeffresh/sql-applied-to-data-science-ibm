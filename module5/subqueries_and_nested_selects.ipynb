{
 "cells": [
  {
   "cell_type": "markdown",
   "metadata": {},
   "source": [
    "# Module 5: SubQueries and nested Selects\n",
    "\n",
    "Sub-query: A query inside another query\n",
    "\n",
    "Example: \n",
    "\n",
    "```\n",
    "select COLUMN1 from TABLE\n",
    "where COLUMN2 = (select MAX(COLUMN2) from TABLE)\n",
    "```\n",
    "\n",
    "Why use sub-queries?\n",
    "\n",
    "To retrieve the list of employees who earn more than the average salary:\n",
    "```\n",
    "select * from employees\n",
    "where salary > AVG(salary)\n",
    "```\n",
    "\n",
    "This query will result in error:\n"
   ]
  }
 ],
 "metadata": {
  "language_info": {
   "name": "python"
  },
  "orig_nbformat": 4
 },
 "nbformat": 4,
 "nbformat_minor": 2
}
