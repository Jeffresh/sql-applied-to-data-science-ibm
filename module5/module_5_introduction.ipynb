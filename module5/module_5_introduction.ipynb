{
 "cells": [
  {
   "cell_type": "markdown",
   "metadata": {},
   "source": [
    "# Module 5: Accessing databases using python\n",
    "\n",
    "After completing this week's lessons, you will know how to explain \n",
    "the basics of using Jupyter notebooks to connect to databases and create tables, load data, query data using SQL, and analyze data using Python.\n",
    "\n",
    "## Objectives\n",
    "\n",
    "- Describe the concepts related with database access using python\n",
    "- Learn and practice how connecting to database using a jupyter notebook\n",
    "- Understand and demonstrate how to create tables and insert data using Python \n",
    "- Insert SQL queries and retrieve data using python\n",
    "- Practice how to do a simple database access with python using SQL Magic\n",
    "- Analyze data of real world using Python and SQL Magic from jupyter notebook\n"
   ]
  }
 ],
 "metadata": {
  "language_info": {
   "name": "python"
  },
  "orig_nbformat": 4
 },
 "nbformat": 4,
 "nbformat_minor": 2
}
