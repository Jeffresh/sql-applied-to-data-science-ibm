{
 "cells": [
  {
   "cell_type": "markdown",
   "metadata": {},
   "source": [
    "# Module 5: Querying multiple tables\n",
    "\n",
    "## Working with multiple tables \n",
    "- Sub-queries\n",
    "- Implicit JOIN\n",
    "- JOIN operator (INNER JOIN, OUTER JOIN, etc.)\n",
    "\n",
    "## Tables for Examples in this Lesson\n",
    "\n",
    "- Employees : (emp_id, f_name, l_name, ssn, b_date, sex, address, job_id, salary, manager_id, dep_id)\n",
    "- Departments : (dept_id_dep, dep_name, manager_id, loc_id)\n",
    "\n",
    "## Accessing Multiple Tables with Sub-queries\n",
    "\n",
    "To retrieve only the employee records that correspond to departments in the DEPARTMENTS table:\n",
    "\n",
    "```\n",
    "select * from employees\n",
    "where dept_id in\n",
    "(select DEPT_ID_DEP from departments);\n",
    "```\n",
    "\n",
    "To retrieve only the list of employees from a specific location:\n",
    "- EMPLOYEES table does not contain location information\n",
    "- Need to get location info from departments table\n",
    "\n",
    "```\n",
    "select * from employees\n",
    "where dept_id in (select DEPT_ID_DEP from departments where loc_id = 'L0002');\n",
    "```\n",
    "\n",
    "To retrieve the department ID and name for employees who earn more than $\\$70,000$\n",
    "\n",
    "```\n",
    "select dept_id_dep, dep_name\n",
    "from departments\n",
    "where dept_id_dep in \n",
    "(select emp_id from employees where salary > 70000);\n",
    "```\n"
   ]
  }
 ],
 "metadata": {
  "language_info": {
   "name": "python"
  },
  "orig_nbformat": 4
 },
 "nbformat": 4,
 "nbformat_minor": 2
}
