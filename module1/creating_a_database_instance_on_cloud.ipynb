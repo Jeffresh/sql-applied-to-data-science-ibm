{
 "cells": [
  {
   "cell_type": "markdown",
   "metadata": {},
   "source": [
    "# Module 1: Creating a database instance on IBM Db2 on Cloud\n",
    "\n",
    "\n",
    "## Model introduction \n",
    "\n",
    "- Cloud Database Basics\n",
    "- List some Cloud Databases \n",
    "- Describe a Database Instance \n",
    "- Create an instance of IBM Db2 on Cloud\n",
    "\n"
   ]
  }
 ],
 "metadata": {
  "language_info": {
   "name": "python"
  },
  "orig_nbformat": 4
 },
 "nbformat": 4,
 "nbformat_minor": 2
}
