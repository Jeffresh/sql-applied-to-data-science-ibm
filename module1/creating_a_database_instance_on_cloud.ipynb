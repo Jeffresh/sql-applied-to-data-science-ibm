{
 "cells": [
  {
   "cell_type": "markdown",
   "metadata": {},
   "source": [
    "# Module 1: Creating a database instance on IBM Db2 on Cloud\n",
    "\n",
    "\n",
    "## Model introduction \n",
    "\n",
    "- Cloud Database Basics\n",
    "- List some Cloud Databases \n",
    "- Describe a Database Instance \n",
    "- Create an instance of IBM Db2 on Cloud\n",
    "\n",
    "\n",
    "## Cloud Databases : Introduction\n",
    "\n",
    "Ease of Use nad Access\n",
    "- API\n",
    "- Web Interface \n",
    "- Cloud or Remote Applications\n",
    "\n",
    "Scalability & Economics\n",
    "- Expand/Shrink Storage & Compute Resources\n",
    "- Pay per use\n",
    "\n",
    "Disaster Recovery\n",
    "- Cloud backups and Geographical Distribution\n",
    "\n",
    "### Examples of Cloud databases \n",
    "- IMB Db2\n",
    "- Databases for POstgreSQl\n",
    "- Oracle Database Cloud Service\n",
    "- Microsoft Azure SQL Database\n",
    "- Amazon Relational Database Services (RDS)\n",
    "\n",
    "Available as:\n",
    "- VMs or Managed Service\n",
    "\n",
    "### Database service instances \n",
    "\n",
    "- DBaaS provides users with access to Database resources in cloud without setting up hardware and installing software.\n",
    "- Database service instance holds data in data objects / tables\n",
    "- Once data is loaded, it can be queried using web interfaces and applications.\n"
   ]
  }
 ],
 "metadata": {
  "language_info": {
   "name": "python"
  },
  "orig_nbformat": 4
 },
 "nbformat": 4,
 "nbformat_minor": 2
}
