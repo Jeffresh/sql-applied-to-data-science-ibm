{
 "cells": [
  {
   "cell_type": "markdown",
   "metadata": {},
   "source": [
    "# Module 1: Introduction to databases and SQl.\n",
    "\n",
    "\n",
    "## Module introduction:\n",
    "\n",
    "In this module you will be introduced into databases. Also you will create a database on cloud.\n",
    "\n",
    "## Objectives \n",
    "\n",
    "- Explain SQL and relational databases\n",
    "- Create a database instance on cloud.\n"
   ]
  }
 ],
 "metadata": {
  "language_info": {
   "name": "python"
  },
  "orig_nbformat": 4
 },
 "nbformat": 4,
 "nbformat_minor": 2
}
