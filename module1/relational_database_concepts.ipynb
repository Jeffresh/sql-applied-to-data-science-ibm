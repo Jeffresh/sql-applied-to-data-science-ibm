{
 "cells": [
  {
   "cell_type": "markdown",
   "metadata": {},
   "source": [
    "# Module 1: Relational database concepts\n",
    "\n",
    "- At the end of this lesson, you will be able to:\n",
    "    - Explain the advantage of the relational model\n",
    "    - Explain how the Entity name and attributes map to a relational database table \n",
    "    - Describe the difference between and entity and an attribute\n",
    "    - Identify some commonly used data types \n",
    "    - Describe the function of Primary Keys\n",
    "\n",
    "\n",
    "\n",
    "## Relational Model\n",
    "\n",
    "- Most used data model \n",
    "- Allows for data independence \n",
    "- Data is stored in a tables\n",
    "\n",
    "\n",
    "## Entity-Relationship Model\n",
    "\n",
    "- Used as a tool to design relational databases\n",
    "- An entity can be a noun, a person a place or a \"thing\" and are represented with a rectangle.\n",
    "- An entity has attributes that describes the entity are represented as ovals, and connected with only one entity.\n",
    "\n",
    "- A entities become tables and the attributes into columns. \n",
    "- Primary keys give us a way to identify each row avoiding data duplicity and defining relationships between tables.\n",
    "- Foreign keys are table keys that are primary keys of other tables.\n",
    "\n",
    "\n",
    "### Summary\n",
    "\n",
    "Now you know:\n",
    "- The key advantage of the relational model is data independence.\n",
    "- Entities are independent objects which have Attributes.\n",
    "- Entities map to Tables in a Relational Database\n",
    "- Attributes map to Columns in a Table\n",
    "- Common data types include characters, numbers and dates/times\n",
    "- A Primary keys uniquely identifies a specific row in a table"
   ]
  },
  {
   "cell_type": "markdown",
   "metadata": {},
   "source": []
  }
 ],
 "metadata": {
  "language_info": {
   "name": "python"
  },
  "orig_nbformat": 4
 },
 "nbformat": 4,
 "nbformat_minor": 2
}
