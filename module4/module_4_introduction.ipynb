{
 "cells": [
  {
   "cell_type": "markdown",
   "metadata": {},
   "source": [
    "# Module 4: introduction \n",
    "\n",
    "- Built in database functions \n",
    "- Nested queries\n",
    "- Use multiple tables\n",
    "\n",
    "## Objectives \n",
    "\n",
    "- Use built in database functions\n",
    "- Write sub-queries and nested queries \n",
    "- Create queries to multiple table access"
   ]
  }
 ],
 "metadata": {
  "language_info": {
   "name": "python"
  },
  "orig_nbformat": 4
 },
 "nbformat": 4,
 "nbformat_minor": 2
}
