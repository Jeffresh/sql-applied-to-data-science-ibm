{
 "cells": [
  {
   "cell_type": "markdown",
   "metadata": {},
   "source": [
    "# Module 5: lab built-in functions\n",
    "\n",
    "- Create and fill the database with PETSALE data\n",
    "- Practice the querys that you saw in the last session."
   ]
  },
  {
   "cell_type": "markdown",
   "metadata": {},
   "source": [
    "## Aggregate or Column functions\n",
    "\n",
    "### Query 1: Add all values in the COST column\n",
    "\n",
    "```\n",
    "select SUM(saleprice) as \"Total sales savings\"\n",
    "from petsale\n",
    "```\n",
    "\n",
    "## Date, Time Functions \n",
    "\n",
    "\n",
    "### Query 2: \n",
    "\n",
    "\n",
    "### Query 1: Select the day when cats were sold\n",
    "\n",
    "```\n",
    "select day(saledate) as day\n",
    "from petsale\n",
    "where lcase(animal) = 'cat'\n",
    "```\n",
    "\n",
    "### Query 2: Get the number of sales during the month of May\n",
    "\n",
    "```\n",
    "select count(*) as Sales\n",
    "from petsale\n",
    "where month(saledate) = '05'\n",
    "```\n",
    "\n",
    "## Date or time Arithmetic\n",
    "\n",
    "### Query 3: What date is it 3 days after each rescue date?\n",
    "\n",
    "```\n",
    "select (saledate + 3 days) as \"3 dates after sale\"\n",
    "from petsale\n",
    "```\n",
    "\n",
    "### Query 4: Find how many days have passed since each saledate till now:\n",
    "\n",
    "```\n",
    "select (CURRENT_DATE - saledate) as \"Days\"\n",
    "from petsale\n",
    "```\n"
   ]
  }
 ],
 "metadata": {
  "language_info": {
   "name": "python"
  },
  "orig_nbformat": 4
 },
 "nbformat": 4,
 "nbformat_minor": 2
}
