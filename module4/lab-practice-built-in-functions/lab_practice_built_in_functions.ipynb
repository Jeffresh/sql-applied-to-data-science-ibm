{
 "cells": [
  {
   "cell_type": "markdown",
   "metadata": {},
   "source": [
    "# Module 5: lab built-in functions\n",
    "\n",
    "- Create and fill the database with PETSALE data\n",
    "- Practice the querys that you saw in the last session."
   ]
  },
  {
   "cell_type": "markdown",
   "metadata": {},
   "source": [
    "## Date, Time Functions \n",
    "### Query 1: Select the day when cats were sold\n",
    "\n",
    "```\n",
    "select day(saledate) as day\n",
    "from petsale\n",
    "where lcase(animal) = 'cat'\n",
    "```"
   ]
  }
 ],
 "metadata": {
  "language_info": {
   "name": "python"
  },
  "orig_nbformat": 4
 },
 "nbformat": 4,
 "nbformat_minor": 2
}
