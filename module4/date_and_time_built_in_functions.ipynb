{
 "cells": [
  {
   "cell_type": "markdown",
   "metadata": {},
   "source": [
    "# Module 4: Date and Time built in Functions \n",
    "\n",
    "## Date, Time Functions \n",
    "\n",
    "Most databases contain special datatypes for dates and times.\n",
    "\n",
    "- DATE: ``` YYYYMMDD``` (8 digits, year, month and day)\n",
    "- TIME: ``` HHMMSS``` (6 digits, hour, minute and seconds)\n",
    "- TIMESTAMP: ``` YYYYXXDDHHMMSSZZZZZZ``` (20 digits, year, month, day, hour, minute, seconds and microseconds)\n",
    "\n",
    "DATE / Time fucntions:\n",
    "\n",
    "``` YEAR(), MONTH(), DAY(), DAYOFMONTH(), DAYOFWEEK(), DAYOFYEAR(), WEEK(), HOUR(), MINUTE(), SECOND()```\n",
    "\n",
    "Example: Extract the DAY portion from a date:\n",
    "\n",
    "``` select DaY (RESCUEDATE) from PETRESCUE where ANIMA='Cat' ```\n",
    "\n",
    "Can be used in where clause:\n",
    "\n",
    "Example: Get the number of rescues during the month of May:\n",
    "\n",
    "``` select COUNT(*) from PETRESCUE where MONTH(RESCUEDATE)='05'```\n",
    "\n",
    "## Date or Time Arithmetic\n",
    "\n",
    "Example: What date is it 3 days after each rescue date?\n",
    "\n",
    "``` select (RESCUEDATE + 3 DAYS) from PETRESCUE ````\n",
    "\n",
    "### Special registers\n",
    "\n",
    "Example: find how many days have passed since each RESCUEDATE till now:\n",
    "\n",
    "``` select (CURRENT_DATE - RESCUEDATE) from PETRESCUE ```\n",
    "\n",
    "The result will be in format (YMMDD):\n",
    "\n",
    "```10921```"
   ]
  }
 ],
 "metadata": {
  "language_info": {
   "name": "python"
  },
  "orig_nbformat": 4
 },
 "nbformat": 4,
 "nbformat_minor": 2
}
