{
 "cells": [
  {
   "cell_type": "markdown",
   "metadata": {},
   "source": [
    "# Module 4: lab practice - Subqueries and multiple tables\n",
    "\n",
    "\n",
    "## Part A: Subqueries and nested selects \n",
    "\n",
    "\n",
    "### Query A1: Introduce a fail (get an error) obtaining every employee which salary are bigger than avg salary\n",
    "\n",
    "```\n",
    "select * \n",
    "from employees\n",
    "where salary > avg(salary)\n",
    ";\n",
    "```\n",
    "\n",
    "### Query A2: Introduce a query that works using a subquery to obtain every employee which salary are bigger than avg salary\n",
    "\n",
    "```\n",
    "select * \n",
    "from employees\n",
    "where salary > (select avg(salary) from employees)\n",
    ";\n",
    "```\n"
   ]
  }
 ],
 "metadata": {
  "language_info": {
   "name": "python"
  },
  "orig_nbformat": 4
 },
 "nbformat": 4,
 "nbformat_minor": 2
}
