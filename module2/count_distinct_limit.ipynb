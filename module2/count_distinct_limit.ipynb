{
 "cells": [
  {
   "cell_type": "markdown",
   "metadata": {},
   "source": [
    "# Module 2: COUNT, DISTINCT, LIMIT\n",
    "\n",
    "\n",
    "## COUNT\n",
    "\n",
    "COUNT() - a built-in function that retrieves the number of rows matching the query criteria.\n",
    "\n",
    "Number of rows in a table:\n",
    "\n",
    "```select COUNT(*) from tablename```\n",
    "\n",
    "## DISTINCT \n",
    "\n",
    "DISTINCT is used to remove duplicate values from a result set.\n",
    "\n",
    "Retrieve unique values in a column:\n",
    "\n",
    "```Select DISTINCT columnname from tablename```\n",
    "\n",
    "## LIMIT\n",
    "\n",
    "LIMIT is used for restricting the number of rows retrieved from the database \n",
    "\n",
    "Retrieve just he first 10 rows in a table:\n",
    "\n",
    "``` select * from tablename LIMIT 10```"
   ]
  }
 ],
 "metadata": {
  "language_info": {
   "name": "python"
  },
  "orig_nbformat": 4
 },
 "nbformat": 4,
 "nbformat_minor": 2
}
