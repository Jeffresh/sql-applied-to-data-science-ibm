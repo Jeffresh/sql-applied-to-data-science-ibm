{
 "cells": [
  {
   "cell_type": "markdown",
   "metadata": {},
   "source": [
    "# Practice: Basic SQL"
   ]
  },
  {
   "cell_type": "markdown",
   "metadata": {},
   "source": [
    "## Task 0: Delete the INSTRUCTOR table\n",
    "\n",
    "``` DROP TABLE INSTRUCTOR;```"
   ]
  },
  {
   "cell_type": "markdown",
   "metadata": {},
   "source": [
    "## Task 1: Create the table INSTRUCTOR\n",
    "\n",
    "- Primary key: ins_id \n",
    "- Columns: lastname and firstname not null, city and country.\n",
    "\n",
    "```\n",
    "CREATE TABLE INSTRUCTOR (\n",
    "\tins_id INTEGER PRIMARY KEY NOT NULL, \n",
    "\tlastname VARCHAR(24) NOT NULL,\n",
    "\tfirstname VARCHAR(24) NOT NULL,\n",
    "\tcity VARCHAR(24),\n",
    "\tcountry CHAR(2)\n",
    ");\n",
    "\n",
    "```"
   ]
  },
  {
   "cell_type": "markdown",
   "metadata": {},
   "source": [
    "## Task2a: Insert a row in the INSTRUCTOR table for the instructor Rav Ahuja\n",
    "\n",
    "Inserta una fila en la tabla INSTRUCTOR para el instructor Rav Ahuja.\n",
    "\n",
    "```\n",
    "INSERT INTO INSTRUCTOR (ins_id, lastname, firstname, city, country) VALUES (1, 'Ahuja', 'Rav', 'Toronto', 'CA');\n",
    "\n",
    "```\n",
    "\n",
    "## Task2b: Insert two rows in at the same time \n",
    "\n",
    "```\n",
    "INSERT INTO INSTRUCTOR (ins_id, lastname, firstname, city, country) \n",
    "VALUES (2, 'Chong', 'Raul', 'Toronto', 'CA'), \n",
    "(3, 'Vasudevan', 'Hima', 'Chicago', 'US');\n",
    "```"
   ]
  },
  {
   "cell_type": "markdown",
   "metadata": {},
   "source": [
    "## Task 3a: Select all the rows of the instructor table \n",
    "\n",
    "```\n",
    "SELECT * from INSTRUCTOR;\n",
    "```\n",
    "\n",
    "## Task 3b: Select firstname, lastname, country or instructor table where city equals Toronto\n",
    "\n",
    "```\n",
    "SELECT firstname, lastname, country\n",
    "FROM instructor\n",
    "WHERE city='Toronto';\n",
    "```"
   ]
  },
  {
   "cell_type": "markdown",
   "metadata": {},
   "source": [
    "## Task 4: Update the Rav Ahuja row changing the city by 'Markham'.\n",
    "\n",
    "```\n",
    "UPDATE INSTRUCTOR SET city='Markahm' WHERE ins_id=1;\n",
    "\n",
    "```"
   ]
  },
  {
   "cell_type": "markdown",
   "metadata": {},
   "source": [
    "## Task 5a: Delete the Raul Chong row\n",
    "\n",
    "```\n",
    "DELETE FROM INSTRUCTOR WHERE ins_id=2;\n",
    "```\n",
    "\n",
    "## Tarea 5b: get all the rows of instructor table\n",
    "\n",
    "```\n",
    "select * from INSTRUCTOR;\n",
    "```"
   ]
  },
  {
   "cell_type": "code",
   "execution_count": null,
   "metadata": {},
   "outputs": [],
   "source": []
  }
 ],
 "metadata": {
  "language_info": {
   "name": "python"
  },
  "orig_nbformat": 4
 },
 "nbformat": 4,
 "nbformat_minor": 2
}
