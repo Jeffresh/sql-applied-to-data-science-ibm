{
 "cells": [
  {
   "cell_type": "markdown",
   "metadata": {},
   "source": [
    "# Module 2: Select statement\n",
    "\n",
    "- Retrieve data from a relational database table \n",
    "- Define the use of a predicate\n",
    "- Identify the syntax of the SELECT statement using the WHERE clause\n",
    "- List the comparison operators supported by a RDBMS\n",
    "\n",
    "## Retrieving rows from a table \n",
    "\n",
    "- After creating a table and inserting data into the table, we want to see the data\n",
    "- SELECT statement\n",
    "    - A data Manipulation Language (DML) statement used to read and modify data\n",
    "        - Select statement: Query\n",
    "        - Result from the query: Result set/table\n",
    "        - select * from \\<tablename\\>\n",
    "\n",
    "## Retrieving a subset of the columns\n",
    "\n",
    "- You can retrieve just he columns you want\n",
    "    - select \\<column1\\> \\<columns2\\> form book\n",
    "\n",
    "\n",
    "## Restricting the result set: Where clause\n",
    "- Restricts th result set\n",
    "- Always requires a Predicate:\n",
    "    - Evaluates to:\n",
    "        - True, False or Unknown \n",
    "    - Used in the search condition of the Where clause\n",
    "- Example: select book_id, title from book WHERE predicate\n",
    "\n",
    "## WHERE Clause Comparison Operators\n",
    "\n",
    "- equal to `=`\n",
    "- Grater than `>`\n",
    "- Lesser than `<`\n",
    "- Greater than or equal to `>=`\n",
    "- Less than or equal to `<=`\n",
    "- Not equal to `<>`\n",
    "\n",
    "## Summary \n",
    "\n",
    "- Retrieve data from a relation database \n",
    "- Define the use of a predicate \n",
    "- Identify the syntax of the SELECT statement using the WHERE clause\n",
    "- List the comparison operators supported by a RDBMS"
   ]
  }
 ],
 "metadata": {
  "language_info": {
   "name": "python"
  },
  "orig_nbformat": 4
 },
 "nbformat": 4,
 "nbformat_minor": 2
}
