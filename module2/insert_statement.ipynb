{
 "cells": [
  {
   "cell_type": "markdown",
   "metadata": {},
   "source": [
    "# Module 2 : Insert Statement\n",
    "\n",
    "- Identify the syntax of the INSERT statement \n",
    "- Explain two methods to add rows to a table\n",
    "\n",
    "\n",
    "## Adding rows to a table \n",
    "\n",
    "- Create the table (CRATE TABLE statement)\n",
    "- Populate table with data:\n",
    "    - INSERT statement\n",
    "        -  a Data Manipulation Language (DML) statement used to read and modify data\n",
    "\n",
    "## Using the INSERT Statement \n",
    "\n",
    "- Sintax: INSERT INTO TableName \\<(\\[ColumnName\\], ...)\\> VALUES (\\[Value\\], ...)\n",
    "\n",
    "- Example: ```INSERT INTO AUTHOR (AUTHOR_ID, LASTNAME) VALUES('A1', 'CHONG')```\n",
    "\n",
    "## Inserting multiple rows \n",
    "\n",
    "Example: ```INSERT INTO AUTHOR (AUTHOR_ID, LASTNAME) VALUES('A1', 'CHONG'), ('A2', 'Ahuja')```\n",
    "\n",
    "## Summary\n",
    "\n",
    "- Identify the syntax of the INSERT statement \n",
    "- Explain two methods to add rows to a table"
   ]
  }
 ],
 "metadata": {
  "language_info": {
   "name": "python"
  },
  "orig_nbformat": 4
 },
 "nbformat": 4,
 "nbformat_minor": 2
}
