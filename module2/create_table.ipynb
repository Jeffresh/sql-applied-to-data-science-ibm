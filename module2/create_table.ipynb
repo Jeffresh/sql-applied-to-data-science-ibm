{
 "cells": [
  {
   "cell_type": "markdown",
   "metadata": {},
   "source": [
    "# Module 2: Create Table statement\n",
    "\n",
    "\n",
    "## Abstract:\n",
    "\n",
    "- Distinguish between Data Definition Language statements and DAta Manipulation Language statements\n",
    "- Create a Table in relational database using Entity Name, Attributes and the ``CREATE TABLE`` statement\n",
    "\n"
   ]
  }
 ],
 "metadata": {
  "language_info": {
   "name": "python"
  },
  "orig_nbformat": 4
 },
 "nbformat": 4,
 "nbformat_minor": 2
}
