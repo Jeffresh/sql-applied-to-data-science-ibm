{
 "cells": [
  {
   "cell_type": "markdown",
   "metadata": {},
   "source": [
    "# Module 2: Create Table statement\n",
    "\n",
    "\n",
    "## Abstract:\n",
    "\n",
    "- Distinguish between Data Definition Language statements and DAta Manipulation Language statements\n",
    "- Create a Table in relational database using Entity Name, Attributes and the ``CREATE TABLE`` statement\n",
    "\n",
    "## Types of SQL Statements - DDL\n",
    "\n",
    "- SQL STatements types: DDL and DML\n",
    "\n",
    "### DDL (DATA Definition Language) statements:\n",
    "    - Define, change or drop data\n",
    "\n",
    "- Common DDL:\n",
    "    - CREATE: create tables and define his columns\n",
    "    - ALTER: modify tables (delete or add columns and his data types)\n",
    "    - TRUNCATE: delete data but not the table itself.\n",
    "    - DROP: delete data and the table.\n",
    "\n",
    "### DML (Data Manipulation Language) statemens:\n",
    "    - Read and modify data\n",
    "    - CRUD operations (Create, Read, Update, Delete rows)\n",
    "\n",
    "- Common DML:\n",
    "    - INSERT: insert rows\n",
    "    - SELECT: read or select rows\n",
    "    - UPDATE: modify a rows\n",
    "    - DELETE: delete row or rows"
   ]
  }
 ],
 "metadata": {
  "language_info": {
   "name": "python"
  },
  "orig_nbformat": 4
 },
 "nbformat": 4,
 "nbformat_minor": 2
}
