{
 "cells": [
  {
   "cell_type": "markdown",
   "metadata": {},
   "source": [
    "# Module 2: Introduction\n",
    "\n",
    "## Introduction \n",
    "\n",
    "In this module you will learn some SQL basic sentences, also you will pratice it using a active database\n",
    "\n",
    "## Objectives\n",
    "\n",
    "- Learn some basic SQL commands\n",
    "- Practice using a real database."
   ]
  }
 ],
 "metadata": {
  "language_info": {
   "name": "python"
  },
  "orig_nbformat": 4
 },
 "nbformat": 4,
 "nbformat_minor": 2
}
