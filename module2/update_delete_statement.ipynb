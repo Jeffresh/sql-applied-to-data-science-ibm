{
 "cells": [
  {
   "cell_type": "markdown",
   "metadata": {},
   "source": [
    "# Module 2: UPDATE and DELETE Statements \n",
    "\n",
    "- Identify the syntax of the Update an  Delete statements\n",
    "\n",
    "- Explain the importance of the WHERE clause in both the UPDATE and DELETE statements \n",
    "\n",
    "\n",
    "## Altering rows of a table - UPDATE statement\n",
    "\n",
    "- After creating a table and inserting data into the table, we can alter the data \n",
    "\n",
    "    - UPDATE statement: A Data Manipulation Language (DML)\n",
    "        - Statement used to read and modify data\n",
    "\n",
    "\n",
    "## Using the UPDATE Statement \n",
    "\n",
    "- Sintax: ``` UPDATE [TableName]\n",
    "              SET [[ColumnName]=[Value]]\n",
    "              <WHERE [Condition]>```\n",
    "\n",
    "- Example: ``` UPDATE AUTHOR\n",
    "               SET LASTNAME='KATTA'\n",
    "                   FIRSTNAME='LAKSHMI'\n",
    "                   WHERE AUTHOR_ID='A2'\n",
    "           ```\n",
    "\n",
    "## Deleting Rows from a table\n",
    "\n",
    "- Remove 1 or more rows form the table:\n",
    "    - DELETE statement\n",
    "        - A DML statement used to read and modify data\n",
    "\n",
    "- Sintax: ``` DELETE FROM [TableName] <WHERE [condition]>```\n",
    "\n",
    "\n",
    "## Using the DELETE statement \n",
    "\n",
    "- Example: ```DELETE FROM AUTHOR WHERE AUTHOR_ID IN ('A2', 'A3')\n",
    "\n",
    "## Summary\n",
    "\n",
    "- Identify the syntax of the UPDATE statement\n",
    "- Identify the syntax of the DELETE statement\n",
    "- Explain the importance of the WHERE clause in both the UPDATE and DELETE statements"
   ]
  }
 ],
 "metadata": {
  "language_info": {
   "name": "python"
  },
  "orig_nbformat": 4
 },
 "nbformat": 4,
 "nbformat_minor": 2
}
